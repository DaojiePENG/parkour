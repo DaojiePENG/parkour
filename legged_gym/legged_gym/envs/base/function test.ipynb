{
 "cells": [
  {
   "cell_type": "code",
   "execution_count": null,
   "metadata": {},
   "outputs": [],
   "source": [
    "# 理解 super 函数的功效\n",
    "def add(a=None, b=None):\n",
    "    super().add(a=1,b=2)\n",
    "    \n"
   ]
  },
  {
   "cell_type": "code",
   "execution_count": 3,
   "metadata": {},
   "outputs": [
    {
     "name": "stdout",
     "output_type": "stream",
     "text": [
      "1\n"
     ]
    }
   ],
   "source": [
    "from copy import copy\n",
    "# 测试 copy class\n",
    "class data():\n",
    "    class obs_scales():\n",
    "        a=1\n",
    "        b=2\n",
    "\n",
    "obs_scales = copy(data.obs_scales)\n",
    "print(obs_scales.a)\n",
    "# 结论： copy结果就相当于原模原样的一个类，可以调用其中的数据"
   ]
  },
  {
   "cell_type": "code",
   "execution_count": 14,
   "metadata": {},
   "outputs": [
    {
     "name": "stdout",
     "output_type": "stream",
     "text": [
      "{'b': 11}\n",
      "[123]\n"
     ]
    }
   ],
   "source": [
    "dict = {}\n",
    "list = []\n",
    "list.append(123)\n",
    "# dict.append('a', 10)\n",
    "dict['b']=11\n",
    "print(dict)\n",
    "print(list)\n",
    "# 结论：字典不能append，列表可以"
   ]
  },
  {
   "cell_type": "code",
   "execution_count": 22,
   "metadata": {},
   "outputs": [
    {
     "name": "stdout",
     "output_type": "stream",
     "text": [
      "[[ 0  8  0]\n",
      " [ 7  0  0]\n",
      " [-5  0  1]]\n",
      "tensor([0, 1, 1, 0, 2, 0, 2, 2])\n",
      "tensor([[0, 1],\n",
      "        [1, 0],\n",
      "        [2, 0],\n",
      "        [2, 2]])\n",
      "\n",
      "[ 0  8  0  7  0 -5  0  1]\n",
      "tensor([1, 3, 5, 7])\n",
      "tensor([[1],\n",
      "        [3],\n",
      "        [5],\n",
      "        [7]])\n"
     ]
    }
   ],
   "source": [
    "# 测试nonzero函数\n",
    "import numpy as np\n",
    "import torch\n",
    "buffers=np.array([[0,8,0],[7,0,0],[-5,0,1]])\n",
    "print(buffers)\n",
    "buff=torch.from_numpy(buffers)\n",
    "# buffers.nonzero(as_tuple=False).flatten()\n",
    "print(buff.nonzero(as_tuple=False).flatten())\n",
    "print(buff.nonzero(as_tuple=False))\n",
    "print()\n",
    "\n",
    "buffers1=np.array([0,8,0,7,0,0-5,0,1])\n",
    "print(buffers1)\n",
    "buff1=torch.from_numpy(buffers1)\n",
    "# buffers.nonzero(as_tuple=False).flatten()\n",
    "print(buff1.nonzero(as_tuple=False).flatten())\n",
    "print(buff1.nonzero(as_tuple=False))\n",
    "# 结论：转换成torch张量才能用flatten，按向量维数返回标号；如果是一维的最好，用完flatten就直接对应一维标号；"
   ]
  }
 ],
 "metadata": {
  "kernelspec": {
   "display_name": "parkour_env38",
   "language": "python",
   "name": "python3"
  },
  "language_info": {
   "codemirror_mode": {
    "name": "ipython",
    "version": 3
   },
   "file_extension": ".py",
   "mimetype": "text/x-python",
   "name": "python",
   "nbconvert_exporter": "python",
   "pygments_lexer": "ipython3",
   "version": "3.8.18"
  }
 },
 "nbformat": 4,
 "nbformat_minor": 2
}
